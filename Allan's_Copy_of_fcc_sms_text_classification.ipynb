{
  "cells": [
    {
      "cell_type": "markdown",
      "metadata": {
        "id": "Eg62Pmz3o83v"
      },
      "source": [
        "*Note: You are currently reading this using Google Colaboratory which is a cloud-hosted version of Jupyter Notebook. This is a document containing both text cells for documentation and runnable code cells. If you are unfamiliar with Jupyter Notebook, watch this 3-minute introduction before starting this challenge: https://www.youtube.com/watch?v=inN8seMm7UI*\n",
        "\n",
        "---\n",
        "\n",
        "In this challenge, you need to create a machine learning model that will classify SMS messages as either \"ham\" or \"spam\". A \"ham\" message is a normal message sent by a friend. A \"spam\" message is an advertisement or a message sent by a company.\n",
        "\n",
        "You should create a function called `predict_message` that takes a message string as an argument and returns a list. The first element in the list should be a number between zero and one that indicates the likeliness of \"ham\" (0) or \"spam\" (1). The second element in the list should be the word \"ham\" or \"spam\", depending on which is most likely.\n",
        "\n",
        "For this challenge, you will use the [SMS Spam Collection dataset](http://www.dt.fee.unicamp.br/~tiago/smsspamcollection/). The dataset has already been grouped into train data and test data.\n",
        "\n",
        "The first two cells import the libraries and data. The final cell tests your model and function. Add your code in between these cells.\n"
      ]
    },
    {
      "cell_type": "code",
      "execution_count": null,
      "metadata": {
        "id": "8RZOuS9LWQvv"
      },
      "outputs": [],
      "source": [
        "# import libraries\n",
        "try:\n",
        "  # %tensorflow_version only exists in Colab.\n",
        "  !pip install tf-nightly\n",
        "except Exception:\n",
        "  pass\n",
        "import tensorflow as tf\n",
        "import pandas as pd\n",
        "from tensorflow import keras\n",
        "!pip install tensorflow-datasets\n",
        "import tensorflow_datasets as tfds\n",
        "import numpy as np\n",
        "import matplotlib.pyplot as plt\n",
        "\n",
        "from keras.preprocessing import sequence\n",
        "\n",
        "from tensorflow.keras.layers.experimental.preprocessing import TextVectorization\n",
        "\n",
        "print(tf.__version__)"
      ]
    },
    {
      "cell_type": "code",
      "execution_count": null,
      "metadata": {
        "id": "lMHwYXHXCar3"
      },
      "outputs": [],
      "source": [
        "# get data files\n",
        "!wget https://cdn.freecodecamp.org/project-data/sms/train-data.tsv\n",
        "!wget https://cdn.freecodecamp.org/project-data/sms/valid-data.tsv\n",
        "\n",
        "train_file_path = \"train-data.tsv\"\n",
        "test_file_path = \"valid-data.tsv\""
      ]
    },
    {
      "cell_type": "code",
      "source": [
        "\"\"\"\n",
        "Setting some constants\n",
        "\"\"\"\n",
        "\n",
        "#Want the model to like train for 100 times\n",
        "BUFFER_SIZE = 100\n",
        "\n",
        "#32 sample of process before updating\n",
        "BATCH_SIZE = 32"
      ],
      "metadata": {
        "id": "96JzaQdt-BFr"
      },
      "execution_count": null,
      "outputs": []
    },
    {
      "cell_type": "code",
      "source": [
        "\"\"\"\n",
        "Read our csv files name the column type (ham or spam), and message.\n",
        "\"\"\"\n",
        "dftrain = pd.read_csv(train_file_path, sep=\"\\t\", header=None, \n",
        "                      names=['type', 'message'])\n",
        "\n",
        "dftest = pd.read_csv(test_file_path, sep=\"\\t\", header=None, \n",
        "                     names=['type', 'message'])"
      ],
      "metadata": {
        "id": "yNGXKHtVv5jg"
      },
      "execution_count": null,
      "outputs": []
    },
    {
      "cell_type": "code",
      "source": [
        "\"\"\"\n",
        "Convert our categorical data into numerical data. If the message is a spam, then\n",
        "1 is given. If ham, then 0 is given.\n",
        "\"\"\"\n",
        "\n",
        "dftrain['type'] = dftrain['type'].apply(lambda x: 1 if x == 'spam' else 0)\n",
        "dftest['type'] = dftest['type'].apply(lambda x: 1 if x == 'spam' else 0)\n",
        "dftrain.head()"
      ],
      "metadata": {
        "id": "RkmLYXOt5KLZ"
      },
      "execution_count": null,
      "outputs": []
    },
    {
      "cell_type": "code",
      "source": [
        "\"\"\"\n",
        "Getting the values of type which is the thing we're predicting\n",
        "\"\"\"\n",
        "#Store the values of type into our labels\n",
        "train_labels = dftrain['type'].values\n",
        "test_labels = dftest['type'].values\n",
        "\n",
        "#Slicing our dataset with the messages and our train_label\n",
        "train_ds = tf.data.Dataset.from_tensor_slices((\n",
        "    dftrain['message'].values, train_labels))\n",
        "test_ds = tf.data.Dataset.from_tensor_slices(\n",
        "    (dftest['message'].values, test_labels))"
      ],
      "metadata": {
        "id": "jZqqlr4r6COq"
      },
      "execution_count": null,
      "outputs": []
    },
    {
      "cell_type": "code",
      "source": [
        "\"\"\"\n",
        "Before passing our data into the vector and model, we should set the buffer size\n",
        "\"\"\"\n",
        "#Make the cpu prefetch the batches before passing it on for training\n",
        "train_ds = train_ds.shuffle(BUFFER_SIZE).batch(BATCH_SIZE).prefetch(\n",
        "    tf.data.AUTOTUNE)\n",
        "test_ds = test_ds.batch(BATCH_SIZE).prefetch(tf.data.AUTOTUNE)"
      ],
      "metadata": {
        "id": "w8DkeC7h8hUM"
      },
      "execution_count": null,
      "outputs": []
    },
    {
      "cell_type": "code",
      "source": [
        "\"\"\"\n",
        "Set up a vectorizer to turn each word in our dictionary into a vector to know\n",
        "which words are similar and which words are not.\n",
        "\"\"\"\n",
        "\n",
        "\n",
        "#Set up a vectorizer to turn words into a numerical vector for training\n",
        "vectorizer = TextVectorization(\n",
        "    output_mode='int',\n",
        "    max_tokens=1000,\n",
        "    output_sequence_length=1000,\n",
        ")\n",
        "\n",
        "#give our words to the vectorizer\n",
        "vectorizer.adapt(train_ds.map(lambda text, label: text))\n",
        "\n",
        "#take a look at what the vectorizer knows\n",
        "vocab = np.array(vectorizer.get_vocabulary())\n",
        "vocab[:20]"
      ],
      "metadata": {
        "id": "GM8Zs_lUNoBn"
      },
      "execution_count": null,
      "outputs": []
    },
    {
      "cell_type": "code",
      "source": [
        "\"\"\"\n",
        "Create our model and add the layers in\n",
        "\"\"\"\n",
        "#create the model\n",
        "model = tf.keras.Sequential([\n",
        "    #Set a layer with the vectorizer for training the words\n",
        "    vectorizer, tf.keras.layers.Embedding(\n",
        "        len(vectorizer.get_vocabulary()),\n",
        "        64,\n",
        "        mask_zero=True,\n",
        "    ),\n",
        "\n",
        "    #Deal with the long short term memory\n",
        "    tf.keras.layers.Bidirectional(tf.keras.layers.LSTM(64,  return_sequences=True)),\n",
        "    tf.keras.layers.Bidirectional(tf.keras.layers.LSTM(32)),\n",
        "    \n",
        "    #Dense our layers into an array of 32\n",
        "    tf.keras.layers.Dense(32, activation='relu'),\n",
        "    #What to forget\n",
        "    tf.keras.layers.Dropout(0.3),\n",
        "    tf.keras.layers.Dense(1)\n",
        "])\n",
        "\n",
        "#compile the model witht the optimizer and the loss function\n",
        "model.compile(\n",
        "    loss=tf.keras.losses.BinaryCrossentropy(from_logits=True),\n",
        "    optimizer=tf.keras.optimizers.Adam(1e-4),\n",
        "    metrics=['accuracy'],\n",
        ")\n",
        "\n",
        "model.summary()"
      ],
      "metadata": {
        "id": "SEgWgqVUO3M0"
      },
      "execution_count": null,
      "outputs": []
    },
    {
      "cell_type": "code",
      "source": [
        "#train the model\n",
        "history = model.fit(\n",
        "    train_ds,\n",
        "    validation_data=test_ds,\n",
        "    validation_steps=30,\n",
        "    epochs=6,\n",
        ")"
      ],
      "metadata": {
        "id": "tlkhkcwVPoT4"
      },
      "execution_count": null,
      "outputs": []
    },
    {
      "cell_type": "code",
      "source": [
        "test_loss, test_acc = model.evaluate(test_ds)"
      ],
      "metadata": {
        "id": "X4eOxux4d-wW"
      },
      "execution_count": null,
      "outputs": []
    },
    {
      "cell_type": "code",
      "source": [
        "# function to predict messages based on model\n",
        "# (should return list containing prediction and label, ex. [0.008318834938108921, 'ham'])\n",
        "def predict_message(pred_text):\n",
        "    ps = model.predict([pred_text]) #make a prediction\n",
        "    print(ps)\n",
        "    p = ps[0][0] #access the probability\n",
        "    return [p, \"ham\" if p <0.5 else \"spam\"]\n",
        "\n",
        "pred_text = \"how are you doing today?\"\n",
        "\n",
        "prediction = predict_message(pred_text)\n",
        "print(prediction)"
      ],
      "metadata": {
        "id": "3rbX2mQceQQ2"
      },
      "execution_count": null,
      "outputs": []
    },
    {
      "cell_type": "code",
      "execution_count": null,
      "metadata": {
        "id": "Dxotov85SjsC"
      },
      "outputs": [],
      "source": [
        "# Run this cell to test your function and model. Do not modify contents.\n",
        "def test_predictions():\n",
        "  test_messages = [\"how are you doing today\",\n",
        "                   \"sale today! to stop texts call 98912460324\",\n",
        "                   \"i dont want to go. can we try it a different day? available sat\",\n",
        "                   \"our new mobile video service is live. just install on your phone to start watching.\",\n",
        "                   \"you have won £1000 cash! call to claim your prize.\",\n",
        "                   \"i'll bring it tomorrow. don't forget the milk.\",\n",
        "                   \"wow, is your arm alright. that happened to me one time too\"\n",
        "                  ]\n",
        "\n",
        "  test_answers = [\"ham\", \"spam\", \"ham\", \"spam\", \"spam\", \"ham\", \"ham\"]\n",
        "  passed = True\n",
        "\n",
        "  for msg, ans in zip(test_messages, test_answers):\n",
        "    prediction = predict_message(msg)\n",
        "    if prediction[1] != ans:\n",
        "      passed = False\n",
        "\n",
        "  if passed:\n",
        "    print(\"You passed the challenge. Great job!\")\n",
        "  else:\n",
        "    print(\"You haven't passed yet. Keep trying.\")\n",
        "\n",
        "test_predictions()\n"
      ]
    },
    {
      "cell_type": "markdown",
      "source": [
        "***Experimenting with data***"
      ],
      "metadata": {
        "id": "U1gnQ4RGwXyV"
      }
    },
    {
      "cell_type": "markdown",
      "source": [
        "**Spam** "
      ],
      "metadata": {
        "id": "LueOGXkfq4zu"
      }
    },
    {
      "cell_type": "code",
      "source": [
        "dftrain['class_label'].value_counts()"
      ],
      "metadata": {
        "id": "mf0XrknjmIs2"
      },
      "execution_count": null,
      "outputs": []
    },
    {
      "cell_type": "code",
      "source": [
        "df_spam = dftrain[dftrain.class_label=='spam']\n",
        "df_spam"
      ],
      "metadata": {
        "id": "tGK3jdvsmekY"
      },
      "execution_count": null,
      "outputs": []
    },
    {
      "cell_type": "code",
      "source": [
        "spam_list= df_spam['message'].tolist()\n",
        "filtered_spam = ' '.join(spam_list).lower()"
      ],
      "metadata": {
        "id": "iQR_5ed_o-P_"
      },
      "execution_count": null,
      "outputs": []
    },
    {
      "cell_type": "code",
      "source": [
        "#create and generate a word cloud image\n",
        "wordcloud = WordCloud(max_font_size = 160, margin=0, background_color = \"white\", colormap=\"Reds\").generate(filtered_spam)"
      ],
      "metadata": {
        "id": "_9V8pVmMqdrP"
      },
      "execution_count": null,
      "outputs": []
    },
    {
      "cell_type": "markdown",
      "source": [
        "**Ham**"
      ],
      "metadata": {
        "id": "08Iq5WmnrAFC"
      }
    },
    {
      "cell_type": "code",
      "source": [
        "df_ham = dftrain[dftrain.class_label=='ham']\n",
        "df_ham"
      ],
      "metadata": {
        "id": "7Qr4VoOXrE_Y"
      },
      "execution_count": null,
      "outputs": []
    },
    {
      "cell_type": "code",
      "source": [
        "ham_list= df_ham['message'].tolist()\n",
        "filtered_ham = ' '.join(ham_list).lower()"
      ],
      "metadata": {
        "id": "F5LfLhoMrThc"
      },
      "execution_count": null,
      "outputs": []
    },
    {
      "cell_type": "code",
      "source": [
        "#create and generate a word cloud image\n",
        "wordcloud = WordCloud(max_font_size = 160, margin=0, background_color = \"white\", colormap=\"Reds\").generate(filtered_ham)"
      ],
      "metadata": {
        "id": "U4ZiEBJ_rZ1Q"
      },
      "execution_count": null,
      "outputs": []
    },
    {
      "cell_type": "markdown",
      "source": [
        "End of experimentation"
      ],
      "metadata": {
        "id": "gIO9eEwGwvlX"
      }
    }
  ],
  "metadata": {
    "colab": {
      "collapsed_sections": [],
      "private_outputs": true,
      "provenance": [],
      "toc_visible": true
    },
    "kernelspec": {
      "display_name": "Python 3",
      "name": "python3"
    },
    "language_info": {},
    "accelerator": "GPU",
    "gpuClass": "standard"
  },
  "nbformat": 4,
  "nbformat_minor": 0
}